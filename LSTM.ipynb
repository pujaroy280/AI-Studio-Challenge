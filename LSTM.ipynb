{
 "cells": [
  {
   "cell_type": "code",
   "execution_count": 1,
   "id": "465b01b0",
   "metadata": {},
   "outputs": [],
   "source": [
    "import numpy as np\n",
    "import matplotlib.pyplot as plt\n",
    "from pandas import read_csv\n",
    "import math\n",
    "\n",
    "from keras.models import Sequential\n",
    "from keras.layers import Dense\n",
    "from keras.layers import LSTM, Flatten\n",
    "from sklearn.preprocessing import MinMaxScaler\n",
    "from sklearn.metrics import mean_squared_error"
   ]
  },
  {
   "cell_type": "code",
   "execution_count": 2,
   "id": "ace9a0e3",
   "metadata": {},
   "outputs": [],
   "source": [
    "df = read_csv('df_train_callvolume (1).csv', usecols=[1])"
   ]
  },
  {
   "cell_type": "code",
   "execution_count": 3,
   "id": "40f58553",
   "metadata": {},
   "outputs": [],
   "source": [
    "#Convert pandas dataframe to numpy array\n",
    "dataset = df.values\n",
    "dataset = dataset.astype('float32') #COnvert values to float"
   ]
  },
  {
   "cell_type": "code",
   "execution_count": 4,
   "id": "5b784c94",
   "metadata": {},
   "outputs": [],
   "source": [
    "#LSTM uses sigmoid and tanh that are sensitive to magnitude so values need to be normalized\n",
    "# normalize the dataset\n",
    "scaler = MinMaxScaler(feature_range=(0, 1)) \n",
    "dataset = scaler.fit_transform(dataset)"
   ]
  },
  {
   "cell_type": "code",
   "execution_count": 5,
   "id": "c01c7ac8",
   "metadata": {},
   "outputs": [],
   "source": [
    "#We cannot use random way of splitting dataset into train and test as\n",
    "#the sequence of events is important for time series.\n",
    "#So let us take first 60% values for train and the remaining 1/3 for testing\n",
    "# split into train and test sets\n",
    "train_size = int(len(dataset) * 0.66)\n",
    "test_size = len(dataset) - train_size\n",
    "train, test = dataset[0:train_size,:], dataset[train_size:len(dataset),:]"
   ]
  },
  {
   "cell_type": "code",
   "execution_count": 6,
   "id": "cd75caa2",
   "metadata": {},
   "outputs": [],
   "source": [
    "def to_sequences(dataset, seq_size=1):\n",
    "    x = []\n",
    "    y = []\n",
    "\n",
    "    for i in range(len(dataset)-seq_size-1):\n",
    "        #print(i)\n",
    "        window = dataset[i:(i+seq_size), 0]\n",
    "        x.append(window)\n",
    "        y.append(dataset[i+seq_size, 0])\n",
    "        \n",
    "    return np.array(x),np.array(y)\n",
    "    \n",
    "\n",
    "seq_size = 96  # Number of time steps to look back \n",
    "#Larger sequences (look further back) may improve forecasting.\n",
    "\n",
    "trainX, trainY = to_sequences(train, seq_size)\n",
    "testX, testY = to_sequences(test, seq_size)"
   ]
  },
  {
   "cell_type": "code",
   "execution_count": 7,
   "id": "b5257bbe",
   "metadata": {},
   "outputs": [
    {
     "name": "stdout",
     "output_type": "stream",
     "text": [
      "Shape of training set: (23029, 96)\n",
      "Shape of test set: (11817, 96)\n"
     ]
    }
   ],
   "source": [
    "print(\"Shape of training set: {}\".format(trainX.shape))\n",
    "print(\"Shape of test set: {}\".format(testX.shape))"
   ]
  },
  {
   "cell_type": "code",
   "execution_count": 8,
   "id": "2910f012",
   "metadata": {},
   "outputs": [
    {
     "name": "stdout",
     "output_type": "stream",
     "text": [
      "Single LSTM with hidden Dense...\n",
      "Model: \"sequential\"\n",
      "_________________________________________________________________\n",
      " Layer (type)                Output Shape              Param #   \n",
      "=================================================================\n",
      " lstm (LSTM)                 (None, 64)                41216     \n",
      "                                                                 \n",
      " dense (Dense)               (None, 32)                2080      \n",
      "                                                                 \n",
      " dense_1 (Dense)             (None, 1)                 33        \n",
      "                                                                 \n",
      "=================================================================\n",
      "Total params: 43,329\n",
      "Trainable params: 43,329\n",
      "Non-trainable params: 0\n",
      "_________________________________________________________________\n",
      "Train...\n"
     ]
    }
   ],
   "source": [
    "# Reshape input to be [samples, time steps, features]\n",
    "trainX = np.reshape(trainX, (trainX.shape[0], 1, trainX.shape[1]))\n",
    "testX = np.reshape(testX, (testX.shape[0], 1, testX.shape[1]))\n",
    "\n",
    "print('Single LSTM with hidden Dense...')\n",
    "model = Sequential()\n",
    "model.add(LSTM(64, input_shape=(None, seq_size)))\n",
    "model.add(Dense(32))\n",
    "model.add(Dense(1))\n",
    "model.compile(loss='mean_squared_error', optimizer='adam')\n",
    "\n",
    "model.summary()\n",
    "print('Train...')\n"
   ]
  },
  {
   "cell_type": "code",
   "execution_count": 9,
   "id": "a499dd6e",
   "metadata": {},
   "outputs": [
    {
     "name": "stdout",
     "output_type": "stream",
     "text": [
      "Epoch 1/100\n",
      "720/720 - 4s - loss: 0.0079 - val_loss: 0.0066 - 4s/epoch - 5ms/step\n",
      "Epoch 2/100\n",
      "720/720 - 2s - loss: 0.0070 - val_loss: 0.0062 - 2s/epoch - 3ms/step\n",
      "Epoch 3/100\n",
      "720/720 - 2s - loss: 0.0067 - val_loss: 0.0062 - 2s/epoch - 2ms/step\n",
      "Epoch 4/100\n",
      "720/720 - 2s - loss: 0.0067 - val_loss: 0.0062 - 2s/epoch - 3ms/step\n",
      "Epoch 5/100\n",
      "720/720 - 2s - loss: 0.0066 - val_loss: 0.0062 - 2s/epoch - 3ms/step\n",
      "Epoch 6/100\n",
      "720/720 - 2s - loss: 0.0066 - val_loss: 0.0061 - 2s/epoch - 2ms/step\n",
      "Epoch 7/100\n",
      "720/720 - 2s - loss: 0.0065 - val_loss: 0.0060 - 2s/epoch - 2ms/step\n",
      "Epoch 8/100\n",
      "720/720 - 2s - loss: 0.0066 - val_loss: 0.0060 - 2s/epoch - 2ms/step\n",
      "Epoch 9/100\n",
      "720/720 - 2s - loss: 0.0065 - val_loss: 0.0061 - 2s/epoch - 3ms/step\n",
      "Epoch 10/100\n",
      "720/720 - 2s - loss: 0.0065 - val_loss: 0.0063 - 2s/epoch - 3ms/step\n",
      "Epoch 11/100\n",
      "720/720 - 2s - loss: 0.0065 - val_loss: 0.0060 - 2s/epoch - 3ms/step\n",
      "Epoch 12/100\n",
      "720/720 - 2s - loss: 0.0064 - val_loss: 0.0060 - 2s/epoch - 2ms/step\n",
      "Epoch 13/100\n",
      "720/720 - 2s - loss: 0.0064 - val_loss: 0.0060 - 2s/epoch - 3ms/step\n",
      "Epoch 14/100\n",
      "720/720 - 2s - loss: 0.0064 - val_loss: 0.0060 - 2s/epoch - 2ms/step\n",
      "Epoch 15/100\n",
      "720/720 - 3s - loss: 0.0064 - val_loss: 0.0059 - 3s/epoch - 4ms/step\n",
      "Epoch 16/100\n",
      "720/720 - 2s - loss: 0.0064 - val_loss: 0.0060 - 2s/epoch - 3ms/step\n",
      "Epoch 17/100\n",
      "720/720 - 3s - loss: 0.0063 - val_loss: 0.0062 - 3s/epoch - 4ms/step\n",
      "Epoch 18/100\n",
      "720/720 - 2s - loss: 0.0064 - val_loss: 0.0061 - 2s/epoch - 2ms/step\n",
      "Epoch 19/100\n",
      "720/720 - 3s - loss: 0.0063 - val_loss: 0.0061 - 3s/epoch - 4ms/step\n",
      "Epoch 20/100\n",
      "720/720 - 2s - loss: 0.0063 - val_loss: 0.0060 - 2s/epoch - 3ms/step\n",
      "Epoch 21/100\n",
      "720/720 - 2s - loss: 0.0063 - val_loss: 0.0060 - 2s/epoch - 3ms/step\n",
      "Epoch 22/100\n",
      "720/720 - 2s - loss: 0.0063 - val_loss: 0.0062 - 2s/epoch - 2ms/step\n",
      "Epoch 23/100\n",
      "720/720 - 5s - loss: 0.0063 - val_loss: 0.0060 - 5s/epoch - 7ms/step\n",
      "Epoch 24/100\n",
      "720/720 - 3s - loss: 0.0063 - val_loss: 0.0060 - 3s/epoch - 5ms/step\n",
      "Epoch 25/100\n",
      "720/720 - 2s - loss: 0.0063 - val_loss: 0.0061 - 2s/epoch - 3ms/step\n",
      "Epoch 26/100\n",
      "720/720 - 2s - loss: 0.0062 - val_loss: 0.0061 - 2s/epoch - 3ms/step\n",
      "Epoch 27/100\n",
      "720/720 - 2s - loss: 0.0063 - val_loss: 0.0060 - 2s/epoch - 3ms/step\n",
      "Epoch 28/100\n",
      "720/720 - 3s - loss: 0.0062 - val_loss: 0.0060 - 3s/epoch - 4ms/step\n",
      "Epoch 29/100\n",
      "720/720 - 2s - loss: 0.0062 - val_loss: 0.0061 - 2s/epoch - 3ms/step\n",
      "Epoch 30/100\n",
      "720/720 - 2s - loss: 0.0062 - val_loss: 0.0060 - 2s/epoch - 3ms/step\n",
      "Epoch 31/100\n",
      "720/720 - 3s - loss: 0.0062 - val_loss: 0.0062 - 3s/epoch - 4ms/step\n",
      "Epoch 32/100\n",
      "720/720 - 4s - loss: 0.0062 - val_loss: 0.0061 - 4s/epoch - 6ms/step\n",
      "Epoch 33/100\n",
      "720/720 - 3s - loss: 0.0062 - val_loss: 0.0060 - 3s/epoch - 4ms/step\n",
      "Epoch 34/100\n",
      "720/720 - 3s - loss: 0.0062 - val_loss: 0.0061 - 3s/epoch - 4ms/step\n",
      "Epoch 35/100\n",
      "720/720 - 2s - loss: 0.0062 - val_loss: 0.0062 - 2s/epoch - 3ms/step\n",
      "Epoch 36/100\n",
      "720/720 - 2s - loss: 0.0062 - val_loss: 0.0062 - 2s/epoch - 3ms/step\n",
      "Epoch 37/100\n",
      "720/720 - 2s - loss: 0.0061 - val_loss: 0.0062 - 2s/epoch - 3ms/step\n",
      "Epoch 38/100\n",
      "720/720 - 2s - loss: 0.0061 - val_loss: 0.0061 - 2s/epoch - 3ms/step\n",
      "Epoch 39/100\n",
      "720/720 - 2s - loss: 0.0061 - val_loss: 0.0061 - 2s/epoch - 3ms/step\n",
      "Epoch 40/100\n",
      "720/720 - 2s - loss: 0.0061 - val_loss: 0.0062 - 2s/epoch - 3ms/step\n",
      "Epoch 41/100\n",
      "720/720 - 2s - loss: 0.0061 - val_loss: 0.0066 - 2s/epoch - 3ms/step\n",
      "Epoch 42/100\n",
      "720/720 - 2s - loss: 0.0061 - val_loss: 0.0062 - 2s/epoch - 3ms/step\n",
      "Epoch 43/100\n",
      "720/720 - 2s - loss: 0.0061 - val_loss: 0.0061 - 2s/epoch - 3ms/step\n",
      "Epoch 44/100\n",
      "720/720 - 2s - loss: 0.0061 - val_loss: 0.0062 - 2s/epoch - 3ms/step\n",
      "Epoch 45/100\n",
      "720/720 - 2s - loss: 0.0061 - val_loss: 0.0062 - 2s/epoch - 3ms/step\n",
      "Epoch 46/100\n",
      "720/720 - 2s - loss: 0.0060 - val_loss: 0.0062 - 2s/epoch - 3ms/step\n",
      "Epoch 47/100\n",
      "720/720 - 3s - loss: 0.0061 - val_loss: 0.0061 - 3s/epoch - 4ms/step\n",
      "Epoch 48/100\n",
      "720/720 - 4s - loss: 0.0060 - val_loss: 0.0062 - 4s/epoch - 5ms/step\n",
      "Epoch 49/100\n",
      "720/720 - 3s - loss: 0.0060 - val_loss: 0.0064 - 3s/epoch - 4ms/step\n",
      "Epoch 50/100\n",
      "720/720 - 3s - loss: 0.0061 - val_loss: 0.0061 - 3s/epoch - 4ms/step\n",
      "Epoch 51/100\n",
      "720/720 - 2s - loss: 0.0060 - val_loss: 0.0062 - 2s/epoch - 3ms/step\n",
      "Epoch 52/100\n",
      "720/720 - 3s - loss: 0.0060 - val_loss: 0.0063 - 3s/epoch - 4ms/step\n",
      "Epoch 53/100\n",
      "720/720 - 3s - loss: 0.0060 - val_loss: 0.0063 - 3s/epoch - 4ms/step\n",
      "Epoch 54/100\n",
      "720/720 - 3s - loss: 0.0060 - val_loss: 0.0062 - 3s/epoch - 4ms/step\n",
      "Epoch 55/100\n",
      "720/720 - 2s - loss: 0.0060 - val_loss: 0.0063 - 2s/epoch - 3ms/step\n",
      "Epoch 56/100\n",
      "720/720 - 2s - loss: 0.0060 - val_loss: 0.0062 - 2s/epoch - 3ms/step\n",
      "Epoch 57/100\n",
      "720/720 - 2s - loss: 0.0059 - val_loss: 0.0062 - 2s/epoch - 3ms/step\n",
      "Epoch 58/100\n",
      "720/720 - 3s - loss: 0.0060 - val_loss: 0.0063 - 3s/epoch - 4ms/step\n",
      "Epoch 59/100\n",
      "720/720 - 3s - loss: 0.0059 - val_loss: 0.0063 - 3s/epoch - 4ms/step\n",
      "Epoch 60/100\n",
      "720/720 - 3s - loss: 0.0059 - val_loss: 0.0062 - 3s/epoch - 4ms/step\n",
      "Epoch 61/100\n",
      "720/720 - 3s - loss: 0.0059 - val_loss: 0.0065 - 3s/epoch - 4ms/step\n",
      "Epoch 62/100\n",
      "720/720 - 3s - loss: 0.0059 - val_loss: 0.0064 - 3s/epoch - 4ms/step\n",
      "Epoch 63/100\n",
      "720/720 - 3s - loss: 0.0059 - val_loss: 0.0062 - 3s/epoch - 3ms/step\n",
      "Epoch 64/100\n",
      "720/720 - 4s - loss: 0.0059 - val_loss: 0.0063 - 4s/epoch - 6ms/step\n",
      "Epoch 65/100\n",
      "720/720 - 3s - loss: 0.0059 - val_loss: 0.0063 - 3s/epoch - 4ms/step\n",
      "Epoch 66/100\n",
      "720/720 - 4s - loss: 0.0059 - val_loss: 0.0064 - 4s/epoch - 6ms/step\n",
      "Epoch 67/100\n",
      "720/720 - 5s - loss: 0.0059 - val_loss: 0.0063 - 5s/epoch - 7ms/step\n",
      "Epoch 68/100\n",
      "720/720 - 4s - loss: 0.0059 - val_loss: 0.0063 - 4s/epoch - 6ms/step\n",
      "Epoch 69/100\n",
      "720/720 - 4s - loss: 0.0058 - val_loss: 0.0062 - 4s/epoch - 5ms/step\n",
      "Epoch 70/100\n",
      "720/720 - 3s - loss: 0.0058 - val_loss: 0.0063 - 3s/epoch - 4ms/step\n",
      "Epoch 71/100\n",
      "720/720 - 4s - loss: 0.0058 - val_loss: 0.0064 - 4s/epoch - 6ms/step\n",
      "Epoch 72/100\n",
      "720/720 - 3s - loss: 0.0058 - val_loss: 0.0064 - 3s/epoch - 5ms/step\n",
      "Epoch 73/100\n",
      "720/720 - 3s - loss: 0.0058 - val_loss: 0.0065 - 3s/epoch - 4ms/step\n",
      "Epoch 74/100\n",
      "720/720 - 3s - loss: 0.0058 - val_loss: 0.0063 - 3s/epoch - 5ms/step\n",
      "Epoch 75/100\n",
      "720/720 - 3s - loss: 0.0058 - val_loss: 0.0064 - 3s/epoch - 4ms/step\n",
      "Epoch 76/100\n",
      "720/720 - 3s - loss: 0.0058 - val_loss: 0.0064 - 3s/epoch - 4ms/step\n",
      "Epoch 77/100\n",
      "720/720 - 3s - loss: 0.0057 - val_loss: 0.0067 - 3s/epoch - 4ms/step\n",
      "Epoch 78/100\n",
      "720/720 - 2s - loss: 0.0058 - val_loss: 0.0064 - 2s/epoch - 3ms/step\n",
      "Epoch 79/100\n",
      "720/720 - 2s - loss: 0.0057 - val_loss: 0.0065 - 2s/epoch - 3ms/step\n",
      "Epoch 80/100\n",
      "720/720 - 3s - loss: 0.0058 - val_loss: 0.0064 - 3s/epoch - 4ms/step\n",
      "Epoch 81/100\n",
      "720/720 - 2s - loss: 0.0057 - val_loss: 0.0064 - 2s/epoch - 3ms/step\n",
      "Epoch 82/100\n",
      "720/720 - 2s - loss: 0.0057 - val_loss: 0.0064 - 2s/epoch - 3ms/step\n",
      "Epoch 83/100\n",
      "720/720 - 2s - loss: 0.0057 - val_loss: 0.0064 - 2s/epoch - 3ms/step\n",
      "Epoch 84/100\n",
      "720/720 - 3s - loss: 0.0057 - val_loss: 0.0064 - 3s/epoch - 4ms/step\n",
      "Epoch 85/100\n",
      "720/720 - 3s - loss: 0.0056 - val_loss: 0.0065 - 3s/epoch - 5ms/step\n",
      "Epoch 86/100\n",
      "720/720 - 4s - loss: 0.0057 - val_loss: 0.0065 - 4s/epoch - 6ms/step\n",
      "Epoch 87/100\n",
      "720/720 - 3s - loss: 0.0057 - val_loss: 0.0066 - 3s/epoch - 4ms/step\n",
      "Epoch 88/100\n",
      "720/720 - 2s - loss: 0.0056 - val_loss: 0.0065 - 2s/epoch - 3ms/step\n",
      "Epoch 89/100\n",
      "720/720 - 2s - loss: 0.0056 - val_loss: 0.0066 - 2s/epoch - 3ms/step\n",
      "Epoch 90/100\n",
      "720/720 - 2s - loss: 0.0056 - val_loss: 0.0066 - 2s/epoch - 3ms/step\n",
      "Epoch 91/100\n",
      "720/720 - 2s - loss: 0.0056 - val_loss: 0.0066 - 2s/epoch - 3ms/step\n",
      "Epoch 92/100\n",
      "720/720 - 3s - loss: 0.0056 - val_loss: 0.0066 - 3s/epoch - 4ms/step\n",
      "Epoch 93/100\n",
      "720/720 - 3s - loss: 0.0056 - val_loss: 0.0065 - 3s/epoch - 4ms/step\n",
      "Epoch 94/100\n",
      "720/720 - 5s - loss: 0.0056 - val_loss: 0.0066 - 5s/epoch - 7ms/step\n",
      "Epoch 95/100\n",
      "720/720 - 4s - loss: 0.0055 - val_loss: 0.0066 - 4s/epoch - 6ms/step\n",
      "Epoch 96/100\n",
      "720/720 - 3s - loss: 0.0056 - val_loss: 0.0066 - 3s/epoch - 4ms/step\n",
      "Epoch 97/100\n",
      "720/720 - 3s - loss: 0.0055 - val_loss: 0.0067 - 3s/epoch - 3ms/step\n",
      "Epoch 98/100\n",
      "720/720 - 2s - loss: 0.0055 - val_loss: 0.0066 - 2s/epoch - 3ms/step\n",
      "Epoch 99/100\n",
      "720/720 - 2s - loss: 0.0055 - val_loss: 0.0069 - 2s/epoch - 3ms/step\n",
      "Epoch 100/100\n",
      "720/720 - 2s - loss: 0.0055 - val_loss: 0.0065 - 2s/epoch - 3ms/step\n"
     ]
    },
    {
     "data": {
      "text/plain": [
       "<keras.callbacks.History at 0x7ff4cb60c8b0>"
      ]
     },
     "execution_count": 9,
     "metadata": {},
     "output_type": "execute_result"
    }
   ],
   "source": [
    "model.fit(trainX, trainY, validation_data=(testX, testY), \n",
    "          verbose=2, epochs=100)"
   ]
  },
  {
   "cell_type": "code",
   "execution_count": 10,
   "id": "e72173d4",
   "metadata": {},
   "outputs": [],
   "source": [
    "trainPredict = model.predict(trainX)\n",
    "testPredict = model.predict(testX)"
   ]
  },
  {
   "cell_type": "code",
   "execution_count": 12,
   "id": "741a8f06",
   "metadata": {},
   "outputs": [],
   "source": [
    "# invert predictions back to prescaled values\n",
    "#This is to compare with original input values\n",
    "#SInce we used minmaxscaler we can now use scaler.inverse_transform\n",
    "#to invert the transformation.\n",
    "trainPredict = scaler.inverse_transform(trainPredict)\n",
    "trainY = scaler.inverse_transform([trainY])\n",
    "testPredict = scaler.inverse_transform(testPredict)\n",
    "testY = scaler.inverse_transform([testY])"
   ]
  },
  {
   "cell_type": "code",
   "execution_count": 13,
   "id": "b458cebd",
   "metadata": {},
   "outputs": [
    {
     "name": "stdout",
     "output_type": "stream",
     "text": [
      "Train Score: 2.41 MSE\n",
      "Test Score: 2.67 MSE\n"
     ]
    }
   ],
   "source": [
    "# calculate mean squared error\n",
    "trainScore = math.sqrt(mean_squared_error(trainY[0], trainPredict[:,0]))\n",
    "print('Train Score: %.2f MSE' % (trainScore))\n",
    "\n",
    "testScore = math.sqrt(mean_squared_error(testY[0], testPredict[:,0]))\n",
    "print('Test Score: %.2f MSE' % (testScore))"
   ]
  },
  {
   "cell_type": "code",
   "execution_count": 14,
   "id": "85b4010d",
   "metadata": {},
   "outputs": [
    {
     "data": {
      "image/png": "[encoded data removed]",
      "text/plain": [
       "<Figure size 432x288 with 1 Axes>"
      ]
     },
     "metadata": {
      "needs_background": "light"
     },
     "output_type": "display_data"
    }
   ],
   "source": [
    "# plot baseline and predictions\n",
    "plt.plot(scaler.inverse_transform(dataset))\n",
    "plt.plot(trainPredict)\n",
    "plt.plot(testPredict)\n",
    "plt.show()"
   ]
  },
  {
   "cell_type": "code",
   "execution_count": null,
   "id": "3fa2f05d",
   "metadata": {},
   "outputs": [],
   "source": []
  }
 ],
 "metadata": {
  "kernelspec": {
   "display_name": "Python 3",
   "language": "python",
   "name": "python3"
  },
  "language_info": {
   "codemirror_mode": {
    "name": "ipython",
    "version": 3
   },
   "file_extension": ".py",
   "mimetype": "text/x-python",
   "name": "python",
   "nbconvert_exporter": "python",
   "pygments_lexer": "ipython3",
   "version": "3.8.8"
  }
 },
 "nbformat": 4,
 "nbformat_minor": 5
}
