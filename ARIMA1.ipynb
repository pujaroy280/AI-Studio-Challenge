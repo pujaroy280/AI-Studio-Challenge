{
 "cells": [
  {
   "cell_type": "markdown",
   "id": "05c62efa",
   "metadata": {},
   "source": [
    "# ARIMA"
   ]
  },
  {
   "cell_type": "markdown",
   "id": "03c30ce5",
   "metadata": {},
   "source": [
    "ARIMA (Auto-Regressive Integrated Moving Average)\n",
    "-The biggest advantage of this model is that it can be applied in case where the data shows evidence of non-stationarity. \n",
    "\n",
    "A quick summary of ARIMA\n",
    "Arims model for Time Series Forcasting\n",
    "Arima is specified by three order parameters: (p, d, q).\n",
    "\n",
    "AR(p) Autoregression - An auto regressice (AR(p)) component refers to the use of past values in the regression equation for the time series.\n",
    "uppercase P may be used depending on seasonality. \n",
    "p component controlls/defines the autoregression part\n",
    "\n",
    "I(d) Integration- uses differencing of observations (subtracting an observation from observation at the previous time step) in order to make the time series stationary.\n",
    "\n",
    "MA(q) Moving Average-A moving average component depicts the error of the model as a combination of previous error terms. The order q represents the number of terms to be included in the model. \n",
    "\n",
    "Various flavors of ARIMA Model:\n",
    "ARIMA: Non-seasonal Autoregressive Integrated Moving Averages\n",
    "SARIMA: Seasonal ARIMA\n",
    "SARIMAX: Seasonal ARIMA with exogeneous variables. \n",
    "\n",
    "Pyramid Auto_ARIMA\n",
    "The auto_arima function from the pmdarima library helps identify the most optimal parameters for an ARIMA model and returns a fitted ARIMA model. "
   ]
  },
  {
   "cell_type": "code",
   "execution_count": 1,
   "id": "c187aa75",
   "metadata": {},
   "outputs": [],
   "source": [
    "import numpy as np\n",
    "import matplotlib.pyplot as plt\n",
    "import pandas as pd\n",
    "import seaborn as sns"
   ]
  },
  {
   "cell_type": "code",
   "execution_count": 2,
   "id": "73b43d3b",
   "metadata": {},
   "outputs": [],
   "source": [
    "df=pd.read_csv('df_train_callvolume (1).csv')"
   ]
  },
  {
   "cell_type": "code",
   "execution_count": 3,
   "id": "f717de8c",
   "metadata": {},
   "outputs": [
    {
     "data": {
      "text/plain": [
       "INTERVAL             object\n",
       "Account               int64\n",
       "AccountClose          int64\n",
       "AccountOnline         int64\n",
       "Account_Issue         int64\n",
       "ApplicationStatus     int64\n",
       "BillingQuery          int64\n",
       "CardDeclined          int64\n",
       "Card_Compromise       int64\n",
       "ChargeReview          int64\n",
       "Complaint             int64\n",
       "DataBreach            int64\n",
       "Entertainment         int64\n",
       "FraudQuery            int64\n",
       "Online_Login          int64\n",
       "PaymentExecute        int64\n",
       "Payments              int64\n",
       "Representative        int64\n",
       "Rewards               int64\n",
       "Statement             int64\n",
       "Travel                int64\n",
       "dtype: object"
      ]
     },
     "execution_count": 3,
     "metadata": {},
     "output_type": "execute_result"
    }
   ],
   "source": [
    "df.dtypes"
   ]
  },
  {
   "cell_type": "code",
   "execution_count": 4,
   "id": "b4b53757",
   "metadata": {},
   "outputs": [
    {
     "data": {
      "text/plain": [
       "INTERVAL             datetime64[ns]\n",
       "Account                       int64\n",
       "AccountClose                  int64\n",
       "AccountOnline                 int64\n",
       "Account_Issue                 int64\n",
       "ApplicationStatus             int64\n",
       "BillingQuery                  int64\n",
       "CardDeclined                  int64\n",
       "Card_Compromise               int64\n",
       "ChargeReview                  int64\n",
       "Complaint                     int64\n",
       "DataBreach                    int64\n",
       "Entertainment                 int64\n",
       "FraudQuery                    int64\n",
       "Online_Login                  int64\n",
       "PaymentExecute                int64\n",
       "Payments                      int64\n",
       "Representative                int64\n",
       "Rewards                       int64\n",
       "Statement                     int64\n",
       "Travel                        int64\n",
       "dtype: object"
      ]
     },
     "execution_count": 4,
     "metadata": {},
     "output_type": "execute_result"
    }
   ],
   "source": [
    "df['INTERVAL']=pd.to_datetime(df['INTERVAL'])\n",
    "df.dtypes"
   ]
  },
  {
   "cell_type": "code",
   "execution_count": 5,
   "id": "52293fbc",
   "metadata": {},
   "outputs": [],
   "source": [
    "df.set_index('INTERVAL', inplace=True)"
   ]
  },
  {
   "cell_type": "code",
   "execution_count": 6,
   "id": "195714f0",
   "metadata": {},
   "outputs": [
    {
     "data": {
      "text/html": [
       "<div>\n",
       "<style scoped>\n",
       "    .dataframe tbody tr th:only-of-type {\n",
       "        vertical-align: middle;\n",
       "    }\n",
       "\n",
       "    .dataframe tbody tr th {\n",
       "        vertical-align: top;\n",
       "    }\n",
       "\n",
       "    .dataframe thead th {\n",
       "        text-align: right;\n",
       "    }\n",
       "</style>\n",
       "<table border=\"1\" class=\"dataframe\">\n",
       "  <thead>\n",
       "    <tr style=\"text-align: right;\">\n",
       "      <th></th>\n",
       "      <th>Account</th>\n",
       "      <th>AccountClose</th>\n",
       "      <th>AccountOnline</th>\n",
       "      <th>Account_Issue</th>\n",
       "      <th>ApplicationStatus</th>\n",
       "      <th>BillingQuery</th>\n",
       "      <th>CardDeclined</th>\n",
       "      <th>Card_Compromise</th>\n",
       "      <th>ChargeReview</th>\n",
       "      <th>Complaint</th>\n",
       "      <th>DataBreach</th>\n",
       "      <th>Entertainment</th>\n",
       "      <th>FraudQuery</th>\n",
       "      <th>Online_Login</th>\n",
       "      <th>PaymentExecute</th>\n",
       "      <th>Payments</th>\n",
       "      <th>Representative</th>\n",
       "      <th>Rewards</th>\n",
       "      <th>Statement</th>\n",
       "      <th>Travel</th>\n",
       "    </tr>\n",
       "    <tr>\n",
       "      <th>INTERVAL</th>\n",
       "      <th></th>\n",
       "      <th></th>\n",
       "      <th></th>\n",
       "      <th></th>\n",
       "      <th></th>\n",
       "      <th></th>\n",
       "      <th></th>\n",
       "      <th></th>\n",
       "      <th></th>\n",
       "      <th></th>\n",
       "      <th></th>\n",
       "      <th></th>\n",
       "      <th></th>\n",
       "      <th></th>\n",
       "      <th></th>\n",
       "      <th></th>\n",
       "      <th></th>\n",
       "      <th></th>\n",
       "      <th></th>\n",
       "      <th></th>\n",
       "    </tr>\n",
       "  </thead>\n",
       "  <tbody>\n",
       "    <tr>\n",
       "      <th>2018-01-01 00:00:00</th>\n",
       "      <td>5</td>\n",
       "      <td>27</td>\n",
       "      <td>8</td>\n",
       "      <td>2</td>\n",
       "      <td>3</td>\n",
       "      <td>17</td>\n",
       "      <td>15</td>\n",
       "      <td>0</td>\n",
       "      <td>37</td>\n",
       "      <td>0</td>\n",
       "      <td>0</td>\n",
       "      <td>0</td>\n",
       "      <td>21</td>\n",
       "      <td>13</td>\n",
       "      <td>97</td>\n",
       "      <td>22</td>\n",
       "      <td>165</td>\n",
       "      <td>19</td>\n",
       "      <td>1</td>\n",
       "      <td>19</td>\n",
       "    </tr>\n",
       "    <tr>\n",
       "      <th>2018-01-01 00:15:00</th>\n",
       "      <td>2</td>\n",
       "      <td>15</td>\n",
       "      <td>5</td>\n",
       "      <td>1</td>\n",
       "      <td>0</td>\n",
       "      <td>8</td>\n",
       "      <td>18</td>\n",
       "      <td>2</td>\n",
       "      <td>30</td>\n",
       "      <td>1</td>\n",
       "      <td>0</td>\n",
       "      <td>0</td>\n",
       "      <td>25</td>\n",
       "      <td>2</td>\n",
       "      <td>93</td>\n",
       "      <td>19</td>\n",
       "      <td>138</td>\n",
       "      <td>23</td>\n",
       "      <td>5</td>\n",
       "      <td>20</td>\n",
       "    </tr>\n",
       "    <tr>\n",
       "      <th>2018-01-01 00:30:00</th>\n",
       "      <td>2</td>\n",
       "      <td>20</td>\n",
       "      <td>7</td>\n",
       "      <td>0</td>\n",
       "      <td>1</td>\n",
       "      <td>4</td>\n",
       "      <td>16</td>\n",
       "      <td>1</td>\n",
       "      <td>28</td>\n",
       "      <td>1</td>\n",
       "      <td>0</td>\n",
       "      <td>0</td>\n",
       "      <td>13</td>\n",
       "      <td>9</td>\n",
       "      <td>87</td>\n",
       "      <td>22</td>\n",
       "      <td>166</td>\n",
       "      <td>14</td>\n",
       "      <td>2</td>\n",
       "      <td>27</td>\n",
       "    </tr>\n",
       "    <tr>\n",
       "      <th>2018-01-01 00:45:00</th>\n",
       "      <td>1</td>\n",
       "      <td>22</td>\n",
       "      <td>3</td>\n",
       "      <td>0</td>\n",
       "      <td>2</td>\n",
       "      <td>10</td>\n",
       "      <td>13</td>\n",
       "      <td>0</td>\n",
       "      <td>31</td>\n",
       "      <td>0</td>\n",
       "      <td>0</td>\n",
       "      <td>0</td>\n",
       "      <td>20</td>\n",
       "      <td>7</td>\n",
       "      <td>79</td>\n",
       "      <td>26</td>\n",
       "      <td>155</td>\n",
       "      <td>12</td>\n",
       "      <td>2</td>\n",
       "      <td>33</td>\n",
       "    </tr>\n",
       "    <tr>\n",
       "      <th>2018-01-01 01:00:00</th>\n",
       "      <td>1</td>\n",
       "      <td>18</td>\n",
       "      <td>4</td>\n",
       "      <td>0</td>\n",
       "      <td>1</td>\n",
       "      <td>6</td>\n",
       "      <td>17</td>\n",
       "      <td>2</td>\n",
       "      <td>26</td>\n",
       "      <td>0</td>\n",
       "      <td>0</td>\n",
       "      <td>0</td>\n",
       "      <td>25</td>\n",
       "      <td>4</td>\n",
       "      <td>94</td>\n",
       "      <td>14</td>\n",
       "      <td>136</td>\n",
       "      <td>16</td>\n",
       "      <td>2</td>\n",
       "      <td>25</td>\n",
       "    </tr>\n",
       "  </tbody>\n",
       "</table>\n",
       "</div>"
      ],
      "text/plain": [
       "                     Account  AccountClose  AccountOnline  Account_Issue  \\\n",
       "INTERVAL                                                                   \n",
       "2018-01-01 00:00:00        5            27              8              2   \n",
       "2018-01-01 00:15:00        2            15              5              1   \n",
       "2018-01-01 00:30:00        2            20              7              0   \n",
       "2018-01-01 00:45:00        1            22              3              0   \n",
       "2018-01-01 01:00:00        1            18              4              0   \n",
       "\n",
       "                     ApplicationStatus  BillingQuery  CardDeclined  \\\n",
       "INTERVAL                                                             \n",
       "2018-01-01 00:00:00                  3            17            15   \n",
       "2018-01-01 00:15:00                  0             8            18   \n",
       "2018-01-01 00:30:00                  1             4            16   \n",
       "2018-01-01 00:45:00                  2            10            13   \n",
       "2018-01-01 01:00:00                  1             6            17   \n",
       "\n",
       "                     Card_Compromise  ChargeReview  Complaint  DataBreach  \\\n",
       "INTERVAL                                                                    \n",
       "2018-01-01 00:00:00                0            37          0           0   \n",
       "2018-01-01 00:15:00                2            30          1           0   \n",
       "2018-01-01 00:30:00                1            28          1           0   \n",
       "2018-01-01 00:45:00                0            31          0           0   \n",
       "2018-01-01 01:00:00                2            26          0           0   \n",
       "\n",
       "                     Entertainment  FraudQuery  Online_Login  PaymentExecute  \\\n",
       "INTERVAL                                                                       \n",
       "2018-01-01 00:00:00              0          21            13              97   \n",
       "2018-01-01 00:15:00              0          25             2              93   \n",
       "2018-01-01 00:30:00              0          13             9              87   \n",
       "2018-01-01 00:45:00              0          20             7              79   \n",
       "2018-01-01 01:00:00              0          25             4              94   \n",
       "\n",
       "                     Payments  Representative  Rewards  Statement  Travel  \n",
       "INTERVAL                                                                   \n",
       "2018-01-01 00:00:00        22             165       19          1      19  \n",
       "2018-01-01 00:15:00        19             138       23          5      20  \n",
       "2018-01-01 00:30:00        22             166       14          2      27  \n",
       "2018-01-01 00:45:00        26             155       12          2      33  \n",
       "2018-01-01 01:00:00        14             136       16          2      25  "
      ]
     },
     "execution_count": 6,
     "metadata": {},
     "output_type": "execute_result"
    }
   ],
   "source": [
    "df.head()"
   ]
  },
  {
   "cell_type": "markdown",
   "id": "d92cebd7",
   "metadata": {},
   "source": [
    "## EDA"
   ]
  },
  {
   "cell_type": "markdown",
   "id": "116cb910",
   "metadata": {},
   "source": [
    "Is the data stationary?\n",
    "Dickey-Fuller test\n",
    "if pvalue is above 0.05, fail to reject null hypothesis and data is non-stationary."
   ]
  },
  {
   "cell_type": "code",
   "execution_count": 7,
   "id": "bf56f34f",
   "metadata": {},
   "outputs": [
    {
     "name": "stdout",
     "output_type": "stream",
     "text": [
      "Account\n",
      "ADF test statistic: -28.20241222960798\n",
      "p-value: 0.0\n",
      "AccountClose\n",
      "ADF test statistic: -28.173617567613057\n",
      "p-value: 0.0\n",
      "AccountOnline\n",
      "ADF test statistic: -43.273662784421056\n",
      "p-value: 0.0\n",
      "Account_Issue\n",
      "ADF test statistic: -40.24677309018842\n",
      "p-value: 0.0\n",
      "ApplicationStatus\n",
      "ADF test statistic: -37.89816678145959\n",
      "p-value: 0.0\n",
      "BillingQuery\n",
      "ADF test statistic: -22.73963642381993\n",
      "p-value: 0.0\n",
      "CardDeclined\n",
      "ADF test statistic: -43.35062181411422\n",
      "p-value: 0.0\n",
      "Card_Compromise\n",
      "ADF test statistic: -25.954431543829102\n",
      "p-value: 0.0\n",
      "ChargeReview\n",
      "ADF test statistic: -34.22446515835775\n",
      "p-value: 0.0\n",
      "Complaint\n",
      "ADF test statistic: -38.62068640399181\n",
      "p-value: 0.0\n",
      "DataBreach\n",
      "ADF test statistic: -19.043498588688916\n",
      "p-value: 0.0\n",
      "Entertainment\n",
      "ADF test statistic: -26.54447256866831\n",
      "p-value: 0.0\n",
      "FraudQuery\n",
      "ADF test statistic: -38.01440791330454\n",
      "p-value: 0.0\n",
      "Online_Login\n",
      "ADF test statistic: -43.122205374040576\n",
      "p-value: 0.0\n",
      "PaymentExecute\n",
      "ADF test statistic: -27.466259689183865\n",
      "p-value: 0.0\n",
      "Payments\n",
      "ADF test statistic: -31.258746280086168\n",
      "p-value: 0.0\n",
      "Representative\n",
      "ADF test statistic: -25.385902658504442\n",
      "p-value: 0.0\n",
      "Rewards\n",
      "ADF test statistic: -30.475268888657183\n",
      "p-value: 0.0\n",
      "Statement\n",
      "ADF test statistic: -37.33707933729673\n",
      "p-value: 0.0\n",
      "Travel\n",
      "ADF test statistic: -32.945029839739405\n",
      "p-value: 0.0\n"
     ]
    }
   ],
   "source": [
    "from statsmodels.tsa.stattools import adfuller\n",
    "for coloumn in df:\n",
    "    print(coloumn)\n",
    "    adfuller_test = adfuller(df[coloumn], autolag= \"AIC\")\n",
    "    print(\"ADF test statistic: {}\".format(adfuller_test[0]))\n",
    "    print(\"p-value: {}\".format(adfuller_test[1]))"
   ]
  },
  {
   "cell_type": "code",
   "execution_count": 8,
   "id": "865304fd",
   "metadata": {},
   "outputs": [],
   "source": [
    "from pmdarima.arima import ADFTest\n",
    "for coloumn in df:\n",
    "    #print(coloumn)\n",
    "    adf_test = ADFTest(alpha=0.05)\n",
    "    adf_test.should_diff(df[coloumn])"
   ]
  },
  {
   "cell_type": "code",
   "execution_count": 9,
   "id": "c67ff10d",
   "metadata": {},
   "outputs": [
    {
     "data": {
      "text/plain": [
       "(0.01, False)"
      ]
     },
     "execution_count": 9,
     "metadata": {},
     "output_type": "execute_result"
    }
   ],
   "source": [
    "adf_test = ADFTest(alpha=0.05)\n",
    "adf_test.should_diff(df['Account'])"
   ]
  },
  {
   "cell_type": "code",
   "execution_count": 10,
   "id": "6f9b844f",
   "metadata": {},
   "outputs": [],
   "source": [
    "df_test=df['Account'].iloc[:672]"
   ]
  },
  {
   "cell_type": "code",
   "execution_count": 11,
   "id": "6ef3b4bd",
   "metadata": {},
   "outputs": [
    {
     "data": {
      "text/plain": [
       "INTERVAL\n",
       "2018-01-01 00:00:00    5\n",
       "2018-01-01 00:15:00    2\n",
       "2018-01-01 00:30:00    2\n",
       "2018-01-01 00:45:00    1\n",
       "2018-01-01 01:00:00    1\n",
       "Name: Account, dtype: int64"
      ]
     },
     "execution_count": 11,
     "metadata": {},
     "output_type": "execute_result"
    }
   ],
   "source": [
    "df_test.head()"
   ]
  },
  {
   "cell_type": "code",
   "execution_count": 12,
   "id": "84e7d6ed",
   "metadata": {},
   "outputs": [
    {
     "name": "stdout",
     "output_type": "stream",
     "text": [
      "ADF test statistic: -4.494677001974115\n",
      "p-value: 0.00020104098323942763\n"
     ]
    }
   ],
   "source": [
    "adfuller_test = adfuller(df_test, autolag= \"AIC\")\n",
    "print(\"ADF test statistic: {}\".format(adfuller_test[0]))\n",
    "print(\"p-value: {}\".format(adfuller_test[1]))"
   ]
  },
  {
   "cell_type": "code",
   "execution_count": 13,
   "id": "b5c27f80",
   "metadata": {},
   "outputs": [],
   "source": [
    "df_test2=df['Account'].iloc[:2688]"
   ]
  },
  {
   "cell_type": "code",
   "execution_count": 14,
   "id": "0e9fcdcb",
   "metadata": {},
   "outputs": [
    {
     "data": {
      "text/plain": [
       "INTERVAL\n",
       "2018-01-01 00:00:00    5\n",
       "2018-01-01 00:15:00    2\n",
       "2018-01-01 00:30:00    2\n",
       "2018-01-01 00:45:00    1\n",
       "2018-01-01 01:00:00    1\n",
       "Name: Account, dtype: int64"
      ]
     },
     "execution_count": 14,
     "metadata": {},
     "output_type": "execute_result"
    }
   ],
   "source": [
    "df_test2.head()"
   ]
  },
  {
   "cell_type": "code",
   "execution_count": 15,
   "id": "007cc11a",
   "metadata": {},
   "outputs": [
    {
     "name": "stdout",
     "output_type": "stream",
     "text": [
      "ADF test statistic: -12.76047166577165\n",
      "p-value: 8.164215610663465e-24\n"
     ]
    }
   ],
   "source": [
    "adfuller_test = adfuller(df_test2, autolag= \"AIC\")\n",
    "print(\"ADF test statistic: {}\".format(adfuller_test[0]))\n",
    "print(\"p-value: {}\".format(adfuller_test[1]))"
   ]
  },
  {
   "cell_type": "markdown",
   "id": "dc3fef98",
   "metadata": {},
   "source": [
    "Use Johansen’s test for checking the stationarity of any multivariate time series data"
   ]
  },
  {
   "cell_type": "code",
   "execution_count": 16,
   "id": "e3eecf65",
   "metadata": {},
   "outputs": [],
   "source": [
    "df1=df.loc[:,\"Account\":\"Entertainment\"]"
   ]
  },
  {
   "cell_type": "code",
   "execution_count": 17,
   "id": "ddb5552d",
   "metadata": {},
   "outputs": [
    {
     "data": {
      "text/html": [
       "<div>\n",
       "<style scoped>\n",
       "    .dataframe tbody tr th:only-of-type {\n",
       "        vertical-align: middle;\n",
       "    }\n",
       "\n",
       "    .dataframe tbody tr th {\n",
       "        vertical-align: top;\n",
       "    }\n",
       "\n",
       "    .dataframe thead th {\n",
       "        text-align: right;\n",
       "    }\n",
       "</style>\n",
       "<table border=\"1\" class=\"dataframe\">\n",
       "  <thead>\n",
       "    <tr style=\"text-align: right;\">\n",
       "      <th></th>\n",
       "      <th>Account</th>\n",
       "      <th>AccountClose</th>\n",
       "      <th>AccountOnline</th>\n",
       "      <th>Account_Issue</th>\n",
       "      <th>ApplicationStatus</th>\n",
       "      <th>BillingQuery</th>\n",
       "      <th>CardDeclined</th>\n",
       "      <th>Card_Compromise</th>\n",
       "      <th>ChargeReview</th>\n",
       "      <th>Complaint</th>\n",
       "      <th>DataBreach</th>\n",
       "      <th>Entertainment</th>\n",
       "    </tr>\n",
       "    <tr>\n",
       "      <th>INTERVAL</th>\n",
       "      <th></th>\n",
       "      <th></th>\n",
       "      <th></th>\n",
       "      <th></th>\n",
       "      <th></th>\n",
       "      <th></th>\n",
       "      <th></th>\n",
       "      <th></th>\n",
       "      <th></th>\n",
       "      <th></th>\n",
       "      <th></th>\n",
       "      <th></th>\n",
       "    </tr>\n",
       "  </thead>\n",
       "  <tbody>\n",
       "    <tr>\n",
       "      <th>2018-01-01 00:00:00</th>\n",
       "      <td>5</td>\n",
       "      <td>27</td>\n",
       "      <td>8</td>\n",
       "      <td>2</td>\n",
       "      <td>3</td>\n",
       "      <td>17</td>\n",
       "      <td>15</td>\n",
       "      <td>0</td>\n",
       "      <td>37</td>\n",
       "      <td>0</td>\n",
       "      <td>0</td>\n",
       "      <td>0</td>\n",
       "    </tr>\n",
       "    <tr>\n",
       "      <th>2018-01-01 00:15:00</th>\n",
       "      <td>2</td>\n",
       "      <td>15</td>\n",
       "      <td>5</td>\n",
       "      <td>1</td>\n",
       "      <td>0</td>\n",
       "      <td>8</td>\n",
       "      <td>18</td>\n",
       "      <td>2</td>\n",
       "      <td>30</td>\n",
       "      <td>1</td>\n",
       "      <td>0</td>\n",
       "      <td>0</td>\n",
       "    </tr>\n",
       "    <tr>\n",
       "      <th>2018-01-01 00:30:00</th>\n",
       "      <td>2</td>\n",
       "      <td>20</td>\n",
       "      <td>7</td>\n",
       "      <td>0</td>\n",
       "      <td>1</td>\n",
       "      <td>4</td>\n",
       "      <td>16</td>\n",
       "      <td>1</td>\n",
       "      <td>28</td>\n",
       "      <td>1</td>\n",
       "      <td>0</td>\n",
       "      <td>0</td>\n",
       "    </tr>\n",
       "    <tr>\n",
       "      <th>2018-01-01 00:45:00</th>\n",
       "      <td>1</td>\n",
       "      <td>22</td>\n",
       "      <td>3</td>\n",
       "      <td>0</td>\n",
       "      <td>2</td>\n",
       "      <td>10</td>\n",
       "      <td>13</td>\n",
       "      <td>0</td>\n",
       "      <td>31</td>\n",
       "      <td>0</td>\n",
       "      <td>0</td>\n",
       "      <td>0</td>\n",
       "    </tr>\n",
       "    <tr>\n",
       "      <th>2018-01-01 01:00:00</th>\n",
       "      <td>1</td>\n",
       "      <td>18</td>\n",
       "      <td>4</td>\n",
       "      <td>0</td>\n",
       "      <td>1</td>\n",
       "      <td>6</td>\n",
       "      <td>17</td>\n",
       "      <td>2</td>\n",
       "      <td>26</td>\n",
       "      <td>0</td>\n",
       "      <td>0</td>\n",
       "      <td>0</td>\n",
       "    </tr>\n",
       "  </tbody>\n",
       "</table>\n",
       "</div>"
      ],
      "text/plain": [
       "                     Account  AccountClose  AccountOnline  Account_Issue  \\\n",
       "INTERVAL                                                                   \n",
       "2018-01-01 00:00:00        5            27              8              2   \n",
       "2018-01-01 00:15:00        2            15              5              1   \n",
       "2018-01-01 00:30:00        2            20              7              0   \n",
       "2018-01-01 00:45:00        1            22              3              0   \n",
       "2018-01-01 01:00:00        1            18              4              0   \n",
       "\n",
       "                     ApplicationStatus  BillingQuery  CardDeclined  \\\n",
       "INTERVAL                                                             \n",
       "2018-01-01 00:00:00                  3            17            15   \n",
       "2018-01-01 00:15:00                  0             8            18   \n",
       "2018-01-01 00:30:00                  1             4            16   \n",
       "2018-01-01 00:45:00                  2            10            13   \n",
       "2018-01-01 01:00:00                  1             6            17   \n",
       "\n",
       "                     Card_Compromise  ChargeReview  Complaint  DataBreach  \\\n",
       "INTERVAL                                                                    \n",
       "2018-01-01 00:00:00                0            37          0           0   \n",
       "2018-01-01 00:15:00                2            30          1           0   \n",
       "2018-01-01 00:30:00                1            28          1           0   \n",
       "2018-01-01 00:45:00                0            31          0           0   \n",
       "2018-01-01 01:00:00                2            26          0           0   \n",
       "\n",
       "                     Entertainment  \n",
       "INTERVAL                            \n",
       "2018-01-01 00:00:00              0  \n",
       "2018-01-01 00:15:00              0  \n",
       "2018-01-01 00:30:00              0  \n",
       "2018-01-01 00:45:00              0  \n",
       "2018-01-01 01:00:00              0  "
      ]
     },
     "execution_count": 17,
     "metadata": {},
     "output_type": "execute_result"
    }
   ],
   "source": [
    "df1.head()"
   ]
  },
  {
   "cell_type": "code",
   "execution_count": 18,
   "id": "bde8efaa",
   "metadata": {},
   "outputs": [
    {
     "data": {
      "text/plain": [
       "array([0.32352274, 0.31703438, 0.31491514, 0.3053471 , 0.29340183,\n",
       "       0.1982739 , 0.17423272, 0.10516682, 0.05726595, 0.04115767,\n",
       "       0.03257633, 0.0023558 ])"
      ]
     },
     "execution_count": 18,
     "metadata": {},
     "output_type": "execute_result"
    }
   ],
   "source": [
    "from statsmodels.tsa.vector_ar.vecm import coint_johansen\n",
    "#since the test works for only 12 variables, I have randomly dropped\n",
    "coint_johansen(df1,-1,1).eig"
   ]
  },
  {
   "cell_type": "code",
   "execution_count": 19,
   "id": "3091d148",
   "metadata": {},
   "outputs": [],
   "source": [
    "df2=df.loc[:,\"FraudQuery\":]"
   ]
  },
  {
   "cell_type": "code",
   "execution_count": 20,
   "id": "0acd3402",
   "metadata": {},
   "outputs": [
    {
     "data": {
      "text/html": [
       "<div>\n",
       "<style scoped>\n",
       "    .dataframe tbody tr th:only-of-type {\n",
       "        vertical-align: middle;\n",
       "    }\n",
       "\n",
       "    .dataframe tbody tr th {\n",
       "        vertical-align: top;\n",
       "    }\n",
       "\n",
       "    .dataframe thead th {\n",
       "        text-align: right;\n",
       "    }\n",
       "</style>\n",
       "<table border=\"1\" class=\"dataframe\">\n",
       "  <thead>\n",
       "    <tr style=\"text-align: right;\">\n",
       "      <th></th>\n",
       "      <th>FraudQuery</th>\n",
       "      <th>Online_Login</th>\n",
       "      <th>PaymentExecute</th>\n",
       "      <th>Payments</th>\n",
       "      <th>Representative</th>\n",
       "      <th>Rewards</th>\n",
       "      <th>Statement</th>\n",
       "      <th>Travel</th>\n",
       "    </tr>\n",
       "    <tr>\n",
       "      <th>INTERVAL</th>\n",
       "      <th></th>\n",
       "      <th></th>\n",
       "      <th></th>\n",
       "      <th></th>\n",
       "      <th></th>\n",
       "      <th></th>\n",
       "      <th></th>\n",
       "      <th></th>\n",
       "    </tr>\n",
       "  </thead>\n",
       "  <tbody>\n",
       "    <tr>\n",
       "      <th>2018-01-01 00:00:00</th>\n",
       "      <td>21</td>\n",
       "      <td>13</td>\n",
       "      <td>97</td>\n",
       "      <td>22</td>\n",
       "      <td>165</td>\n",
       "      <td>19</td>\n",
       "      <td>1</td>\n",
       "      <td>19</td>\n",
       "    </tr>\n",
       "    <tr>\n",
       "      <th>2018-01-01 00:15:00</th>\n",
       "      <td>25</td>\n",
       "      <td>2</td>\n",
       "      <td>93</td>\n",
       "      <td>19</td>\n",
       "      <td>138</td>\n",
       "      <td>23</td>\n",
       "      <td>5</td>\n",
       "      <td>20</td>\n",
       "    </tr>\n",
       "    <tr>\n",
       "      <th>2018-01-01 00:30:00</th>\n",
       "      <td>13</td>\n",
       "      <td>9</td>\n",
       "      <td>87</td>\n",
       "      <td>22</td>\n",
       "      <td>166</td>\n",
       "      <td>14</td>\n",
       "      <td>2</td>\n",
       "      <td>27</td>\n",
       "    </tr>\n",
       "    <tr>\n",
       "      <th>2018-01-01 00:45:00</th>\n",
       "      <td>20</td>\n",
       "      <td>7</td>\n",
       "      <td>79</td>\n",
       "      <td>26</td>\n",
       "      <td>155</td>\n",
       "      <td>12</td>\n",
       "      <td>2</td>\n",
       "      <td>33</td>\n",
       "    </tr>\n",
       "    <tr>\n",
       "      <th>2018-01-01 01:00:00</th>\n",
       "      <td>25</td>\n",
       "      <td>4</td>\n",
       "      <td>94</td>\n",
       "      <td>14</td>\n",
       "      <td>136</td>\n",
       "      <td>16</td>\n",
       "      <td>2</td>\n",
       "      <td>25</td>\n",
       "    </tr>\n",
       "  </tbody>\n",
       "</table>\n",
       "</div>"
      ],
      "text/plain": [
       "                     FraudQuery  Online_Login  PaymentExecute  Payments  \\\n",
       "INTERVAL                                                                  \n",
       "2018-01-01 00:00:00          21            13              97        22   \n",
       "2018-01-01 00:15:00          25             2              93        19   \n",
       "2018-01-01 00:30:00          13             9              87        22   \n",
       "2018-01-01 00:45:00          20             7              79        26   \n",
       "2018-01-01 01:00:00          25             4              94        14   \n",
       "\n",
       "                     Representative  Rewards  Statement  Travel  \n",
       "INTERVAL                                                         \n",
       "2018-01-01 00:00:00             165       19          1      19  \n",
       "2018-01-01 00:15:00             138       23          5      20  \n",
       "2018-01-01 00:30:00             166       14          2      27  \n",
       "2018-01-01 00:45:00             155       12          2      33  \n",
       "2018-01-01 01:00:00             136       16          2      25  "
      ]
     },
     "execution_count": 20,
     "metadata": {},
     "output_type": "execute_result"
    }
   ],
   "source": [
    "df2.head()"
   ]
  },
  {
   "cell_type": "code",
   "execution_count": 21,
   "id": "cd985479",
   "metadata": {},
   "outputs": [
    {
     "data": {
      "text/plain": [
       "array([0.27085583, 0.2468065 , 0.21756936, 0.1551461 , 0.0973913 ,\n",
       "       0.05594207, 0.04132155, 0.00290971])"
      ]
     },
     "execution_count": 21,
     "metadata": {},
     "output_type": "execute_result"
    }
   ],
   "source": [
    "coint_johansen(df2,-1,1).eig"
   ]
  },
  {
   "cell_type": "code",
   "execution_count": null,
   "id": "6372e95b",
   "metadata": {},
   "outputs": [],
   "source": []
  },
  {
   "cell_type": "markdown",
   "id": "fc4c4af6",
   "metadata": {},
   "source": [
    "## ARIMA Modeling"
   ]
  },
  {
   "cell_type": "markdown",
   "id": "6611e91f",
   "metadata": {},
   "source": [
    "Autoarima gives us bet model suited for the data\n",
    "p - number of autoregressive terms (AR)\n",
    "q - Number of moving avergae terms (MA)\n",
    "d - number of non-seasonal differences\n",
    "p, d, q represent non-seasonal components\n",
    "P, D, Q represent seasonal components"
   ]
  },
  {
   "cell_type": "code",
   "execution_count": 22,
   "id": "57d7857c",
   "metadata": {},
   "outputs": [],
   "source": [
    "from pmdarima.arima import auto_arima"
   ]
  },
  {
   "cell_type": "code",
   "execution_count": 23,
   "id": "04ff7a34",
   "metadata": {},
   "outputs": [
    {
     "name": "stdout",
     "output_type": "stream",
     "text": [
      "Performing stepwise search to minimize aic\n",
      " ARIMA(1,1,1)(0,0,0)[0] intercept   : AIC=173432.338, Time=4.41 sec\n",
      " ARIMA(0,1,0)(0,0,0)[0] intercept   : AIC=186974.332, Time=0.70 sec\n",
      " ARIMA(1,1,0)(0,0,0)[0] intercept   : AIC=177755.720, Time=0.82 sec\n",
      " ARIMA(0,1,1)(0,0,0)[0] intercept   : AIC=173601.918, Time=2.58 sec\n",
      " ARIMA(0,1,0)(0,0,0)[0]             : AIC=186972.332, Time=0.36 sec\n",
      " ARIMA(2,1,1)(0,0,0)[0] intercept   : AIC=173333.217, Time=6.28 sec\n",
      " ARIMA(2,1,0)(0,0,0)[0] intercept   : AIC=174830.983, Time=1.76 sec\n",
      " ARIMA(3,1,1)(0,0,0)[0] intercept   : AIC=173229.457, Time=10.03 sec\n",
      " ARIMA(3,1,0)(0,0,0)[0] intercept   : AIC=173599.734, Time=2.19 sec\n",
      " ARIMA(4,1,1)(0,0,0)[0] intercept   : AIC=173188.438, Time=10.76 sec\n",
      " ARIMA(4,1,0)(0,0,0)[0] intercept   : AIC=173222.311, Time=2.56 sec\n",
      " ARIMA(5,1,1)(0,0,0)[0] intercept   : AIC=173183.375, Time=19.66 sec\n",
      " ARIMA(5,1,0)(0,0,0)[0] intercept   : AIC=173181.601, Time=3.08 sec\n",
      " ARIMA(5,1,0)(0,0,0)[0]             : AIC=173179.601, Time=1.73 sec\n",
      " ARIMA(4,1,0)(0,0,0)[0]             : AIC=173220.311, Time=1.63 sec\n",
      " ARIMA(5,1,1)(0,0,0)[0]             : AIC=173181.375, Time=8.43 sec\n",
      " ARIMA(4,1,1)(0,0,0)[0]             : AIC=173186.438, Time=5.24 sec\n",
      "\n",
      "Best model:  ARIMA(5,1,0)(0,0,0)[0]          \n",
      "Total fit time: 82.232 seconds\n"
     ]
    }
   ],
   "source": [
    "arima_model = auto_arima(df['Account'], start_p = 1, d=1, start_q = 1, \n",
    "                          max_p = 5, max_q = 5, max_d=5,\n",
    "                         \n",
    "                          start_P = 0, D=1, start_Q=0, max_P=5, max_D=5, max_Q=5,\n",
    "                          seasonal = True, \n",
    "                          trace = True, \n",
    "                          error_action ='ignore',   \n",
    "                          suppress_warnings = True,  \n",
    "                          stepwise = True, n_fits=7) "
   ]
  },
  {
   "cell_type": "code",
   "execution_count": null,
   "id": "4b27c459",
   "metadata": {},
   "outputs": [],
   "source": []
  },
  {
   "cell_type": "code",
   "execution_count": 24,
   "id": "474b8381",
   "metadata": {},
   "outputs": [
    {
     "name": "stdout",
     "output_type": "stream",
     "text": [
      "Performing stepwise search to minimize aic\n",
      " ARIMA(2,1,2)(0,0,0)[0] intercept   : AIC=172367.622, Time=17.00 sec\n",
      " ARIMA(0,1,0)(0,0,0)[0] intercept   : AIC=186974.332, Time=0.67 sec\n",
      " ARIMA(1,1,0)(0,0,0)[0] intercept   : AIC=177755.720, Time=0.84 sec\n",
      " ARIMA(0,1,1)(0,0,0)[0] intercept   : AIC=173601.918, Time=2.56 sec\n",
      " ARIMA(0,1,0)(0,0,0)[0]             : AIC=186972.332, Time=0.38 sec\n",
      " ARIMA(1,1,2)(0,0,0)[0] intercept   : AIC=172376.761, Time=15.57 sec\n",
      " ARIMA(2,1,1)(0,0,0)[0] intercept   : AIC=173333.217, Time=6.14 sec\n",
      " ARIMA(3,1,2)(0,0,0)[0] intercept   : AIC=172357.167, Time=26.39 sec\n",
      " ARIMA(3,1,1)(0,0,0)[0] intercept   : AIC=173229.457, Time=9.88 sec\n",
      " ARIMA(4,1,2)(0,0,0)[0] intercept   : AIC=172357.879, Time=38.11 sec\n",
      " ARIMA(3,1,3)(0,0,0)[0] intercept   : AIC=172367.812, Time=16.58 sec\n",
      " ARIMA(2,1,3)(0,0,0)[0] intercept   : AIC=172380.402, Time=20.79 sec\n",
      " ARIMA(4,1,1)(0,0,0)[0] intercept   : AIC=173188.438, Time=10.74 sec\n",
      " ARIMA(4,1,3)(0,0,0)[0] intercept   : AIC=172360.122, Time=27.86 sec\n",
      " ARIMA(3,1,2)(0,0,0)[0]             : AIC=172355.167, Time=10.09 sec\n",
      " ARIMA(2,1,2)(0,0,0)[0]             : AIC=172365.622, Time=6.58 sec\n",
      " ARIMA(3,1,1)(0,0,0)[0]             : AIC=173227.457, Time=3.93 sec\n",
      " ARIMA(4,1,2)(0,0,0)[0]             : AIC=172355.879, Time=17.52 sec\n",
      " ARIMA(3,1,3)(0,0,0)[0]             : AIC=172364.182, Time=19.06 sec\n",
      " ARIMA(2,1,1)(0,0,0)[0]             : AIC=173331.217, Time=2.69 sec\n",
      " ARIMA(2,1,3)(0,0,0)[0]             : AIC=172376.719, Time=20.95 sec\n",
      " ARIMA(4,1,1)(0,0,0)[0]             : AIC=173186.438, Time=5.42 sec\n",
      " ARIMA(4,1,3)(0,0,0)[0]             : AIC=172358.136, Time=13.81 sec\n",
      "\n",
      "Best model:  ARIMA(3,1,2)(0,0,0)[0]          \n",
      "Total fit time: 293.627 seconds\n"
     ]
    }
   ],
   "source": [
    "arima_model = auto_arima(df['Account'], trace = True, error_action ='ignore',   \n",
    "                          suppress_warnings = True)"
   ]
  },
  {
   "cell_type": "code",
   "execution_count": 25,
   "id": "8afb0346",
   "metadata": {},
   "outputs": [
    {
     "name": "stdout",
     "output_type": "stream",
     "text": [
      "                               SARIMAX Results                                \n",
      "==============================================================================\n",
      "Dep. Variable:                      y   No. Observations:                35040\n",
      "Model:               SARIMAX(3, 1, 2)   Log Likelihood              -86171.583\n",
      "Date:                Fri, 19 Nov 2021   AIC                         172355.167\n",
      "Time:                        15:16:42   BIC                         172405.952\n",
      "Sample:                             0   HQIC                        172371.342\n",
      "                              - 35040                                         \n",
      "Covariance Type:                  opg                                         \n",
      "==============================================================================\n",
      "                 coef    std err          z      P>|z|      [0.025      0.975]\n",
      "------------------------------------------------------------------------------\n",
      "ar.L1          0.9504      0.007    133.246      0.000       0.936       0.964\n",
      "ar.L2         -0.0166      0.006     -2.718      0.007      -0.029      -0.005\n",
      "ar.L3         -0.0258      0.006     -4.378      0.000      -0.037      -0.014\n",
      "ma.L1         -1.6660      0.006   -287.430      0.000      -1.677      -1.655\n",
      "ma.L2          0.7246      0.006    126.592      0.000       0.713       0.736\n",
      "sigma2         8.0100      0.043    186.505      0.000       7.926       8.094\n",
      "===================================================================================\n",
      "Ljung-Box (L1) (Q):                   0.00   Jarque-Bera (JB):              5890.63\n",
      "Prob(Q):                              0.98   Prob(JB):                         0.00\n",
      "Heteroskedasticity (H):               0.97   Skew:                             0.14\n",
      "Prob(H) (two-sided):                  0.06   Kurtosis:                         4.99\n",
      "===================================================================================\n",
      "\n",
      "Warnings:\n",
      "[1] Covariance matrix calculated using the outer product of gradients (complex-step).\n"
     ]
    }
   ],
   "source": [
    "# To print the summary \n",
    "print(arima_model.summary() ) #Note down the Model and details."
   ]
  },
  {
   "cell_type": "markdown",
   "id": "fb7ee3bb",
   "metadata": {},
   "source": [
    "m->seasonal cycle length\n",
    "    define frequency as day= 96\n",
    "                        week=672\n",
    "\n",
    "max_order -> determines the total number of non seasonal AR and MA components the model can have. aka max value for sum of p and q. setting it equal to none makes the auto_arima more flexible b/c it can try any combination of values but increases the computational time significantly so were going to ignore this for now. \n",
    "\n",
    "max_p, max_q, max_d-> Maximum AR, MA, integration component respectively default is 5 \n",
    "\n",
    "maxiter-> defualt is 50"
   ]
  },
  {
   "cell_type": "code",
   "execution_count": null,
   "id": "2bc0f695",
   "metadata": {},
   "outputs": [
    {
     "name": "stdout",
     "output_type": "stream",
     "text": [
      "Performing stepwise search to minimize aic\n",
      " ARIMA(1,1,1)(0,1,0)[96]             : AIC=191639.986, Time=455.91 sec\n"
     ]
    }
   ],
   "source": [
    "arima_model = auto_arima(df['Account'], start_p = 1, d=1, start_q = 1, \n",
    "                          max_p = 5, max_q = 5, max_d=5, m =96, \n",
    "                          start_P = 0, D=1, start_Q=0, max_P=5, max_D=5, max_Q=5,\n",
    "                          seasonal = True, \n",
    "                          trace = True, \n",
    "                          error_action ='ignore',   \n",
    "                          suppress_warnings = True,  \n",
    "                          stepwise = True, n_fits=7) "
   ]
  },
  {
   "cell_type": "code",
   "execution_count": null,
   "id": "147cad4b",
   "metadata": {},
   "outputs": [],
   "source": []
  }
 ],
 "metadata": {
  "kernelspec": {
   "display_name": "Python 3",
   "language": "python",
   "name": "python3"
  },
  "language_info": {
   "codemirror_mode": {
    "name": "ipython",
    "version": 3
   },
   "file_extension": ".py",
   "mimetype": "text/x-python",
   "name": "python",
   "nbconvert_exporter": "python",
   "pygments_lexer": "ipython3",
   "version": "3.8.8"
  }
 },
 "nbformat": 4,
 "nbformat_minor": 5
}
